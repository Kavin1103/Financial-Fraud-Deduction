{
 "cells": [
  {
   "cell_type": "code",
   "execution_count": 1,
   "id": "fc96f7bc-6806-4d78-8a19-b8af25178fe4",
   "metadata": {},
   "outputs": [
    {
     "data": {
      "text/plain": [
       "<bound method NDFrame.head of          Unnamed: 0  TRANSACTION_ID          TX_DATETIME  CUSTOMER_ID  \\\n",
       "0                 0               0  2023-01-01 00:00:31          596   \n",
       "1                 1               1  2023-01-01 00:02:10         4961   \n",
       "2                 2               2  2023-01-01 00:07:56            2   \n",
       "3                 3               3  2023-01-01 00:09:29         4128   \n",
       "4                 4               4  2023-01-01 00:10:34          927   \n",
       "...             ...             ...                  ...          ...   \n",
       "1754150     1754150         1754150  2023-07-02 23:56:36          161   \n",
       "1754151     1754151         1754151  2023-07-02 23:57:38         4342   \n",
       "1754152     1754152         1754152  2023-07-02 23:58:21          618   \n",
       "1754153     1754153         1754153  2023-07-02 23:59:52         4056   \n",
       "1754154     1754154         1754154  2023-07-02 23:59:57         3542   \n",
       "\n",
       "         TERMINAL_ID  TX_AMOUNT  TX_TIME_SECONDS  TX_TIME_DAYS  TX_FRAUD  \\\n",
       "0               3156     533.07               31             0         0   \n",
       "1               3412     808.56              130             0         0   \n",
       "2               1365    1442.94              476             0         1   \n",
       "3               8737     620.65              569             0         0   \n",
       "4               9906     490.66              634             0         0   \n",
       "...              ...        ...              ...           ...       ...   \n",
       "1754150          655     531.43         15810996           182         0   \n",
       "1754151         6181      10.40         15811058           182         0   \n",
       "1754152         1502      26.62         15811101           182         0   \n",
       "1754153         3067     550.43         15811192           182         0   \n",
       "1754154         9849     216.57         15811197           182         0   \n",
       "\n",
       "         TX_FRAUD_SCENARIO  \n",
       "0                        0  \n",
       "1                        0  \n",
       "2                        1  \n",
       "3                        0  \n",
       "4                        0  \n",
       "...                    ...  \n",
       "1754150                  0  \n",
       "1754151                  0  \n",
       "1754152                  0  \n",
       "1754153                  0  \n",
       "1754154                  0  \n",
       "\n",
       "[1754155 rows x 10 columns]>"
      ]
     },
     "execution_count": 1,
     "metadata": {},
     "output_type": "execute_result"
    }
   ],
   "source": [
    "import pandas as pd\n",
    "df = pd.read_csv(\"Final Transactions.csv\")\n",
    "df.head"
   ]
  },
  {
   "cell_type": "code",
   "execution_count": 2,
   "id": "9daea47d-5006-4e9b-8ff8-72083dc48434",
   "metadata": {},
   "outputs": [
    {
     "name": "stdout",
     "output_type": "stream",
     "text": [
      "<class 'pandas.core.frame.DataFrame'>\n",
      "RangeIndex: 1754155 entries, 0 to 1754154\n",
      "Data columns (total 10 columns):\n",
      " #   Column             Dtype  \n",
      "---  ------             -----  \n",
      " 0   Unnamed: 0         int64  \n",
      " 1   TRANSACTION_ID     int64  \n",
      " 2   TX_DATETIME        object \n",
      " 3   CUSTOMER_ID        int64  \n",
      " 4   TERMINAL_ID        int64  \n",
      " 5   TX_AMOUNT          float64\n",
      " 6   TX_TIME_SECONDS    int64  \n",
      " 7   TX_TIME_DAYS       int64  \n",
      " 8   TX_FRAUD           int64  \n",
      " 9   TX_FRAUD_SCENARIO  int64  \n",
      "dtypes: float64(1), int64(8), object(1)\n",
      "memory usage: 133.8+ MB\n"
     ]
    }
   ],
   "source": [
    "df.info()"
   ]
  },
  {
   "cell_type": "code",
   "execution_count": 3,
   "id": "518920c6-97fe-4fb5-b9ae-3612e6d7a21c",
   "metadata": {},
   "outputs": [
    {
     "name": "stdout",
     "output_type": "stream",
     "text": [
      "Training accuracy: 1.0\n",
      "Testing accuracy: 1.0\n"
     ]
    }
   ],
   "source": [
    "# Import necessary libraries\n",
    "import pandas as pd\n",
    "from sklearn.model_selection import train_test_split\n",
    "from sklearn.tree import DecisionTreeClassifier\n",
    "from sklearn.metrics import accuracy_score\n",
    "\n",
    "# Load data from CSV file\n",
    "df = pd.read_csv('Final Transactions.csv')\n",
    "\n",
    "# Extract features (X) and target variable (y)\n",
    "X = df.drop(columns=['TRANSACTION_ID','TX_DATETIME','CUSTOMER_ID','TERMINAL_ID','TX_AMOUNT','TX_TIME_SECONDS','TX_TIME_DAYS','TX_FRAUD_SCENARIO'])\n",
    "y = df['TX_FRAUD']\n",
    "\n",
    "# Split data into training and testing sets\n",
    "X_train, X_test, y_train, y_test = train_test_split(X, y, test_size=0.3, random_state=42)\n",
    "\n",
    "# Initialize and train the Decision Tree model\n",
    "model = DecisionTreeClassifier(random_state=42)\n",
    "model.fit(X_train, y_train)\n",
    "\n",
    "# Evaluate the model\n",
    "train_score = model.score(X_train, y_train)\n",
    "test_score = model.score(X_test, y_test)\n",
    "\n",
    "print(\"Training accuracy:\", train_score)\n",
    "print(\"Testing accuracy:\", test_score)\n"
   ]
  },
  {
   "cell_type": "code",
   "execution_count": 4,
   "id": "9f71cfee-6864-4bd9-8e16-b93d7f4b759b",
   "metadata": {},
   "outputs": [
    {
     "name": "stdout",
     "output_type": "stream",
     "text": [
      "Precision: 1.0\n"
     ]
    }
   ],
   "source": [
    "from sklearn.metrics import precision_score\n",
    "\n",
    "# Make predictions on the test set\n",
    "y_pred = model.predict(X_test)\n",
    "\n",
    "# Calculate precision\n",
    "precision = precision_score(y_test, y_pred)\n",
    "\n",
    "print(\"Precision:\", precision)"
   ]
  },
  {
   "cell_type": "code",
   "execution_count": null,
   "id": "a7a53081-bf37-44fb-b41d-7217199b4929",
   "metadata": {},
   "outputs": [],
   "source": []
  }
 ],
 "metadata": {
  "kernelspec": {
   "display_name": "Python 3 (ipykernel)",
   "language": "python",
   "name": "python3"
  },
  "language_info": {
   "codemirror_mode": {
    "name": "ipython",
    "version": 3
   },
   "file_extension": ".py",
   "mimetype": "text/x-python",
   "name": "python",
   "nbconvert_exporter": "python",
   "pygments_lexer": "ipython3",
   "version": "3.11.7"
  }
 },
 "nbformat": 4,
 "nbformat_minor": 5
}
