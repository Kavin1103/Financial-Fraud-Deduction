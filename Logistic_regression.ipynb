{
 "cells": [
  {
   "cell_type": "code",
   "execution_count": 2,
   "id": "eaf3b851-076e-42bb-91df-ddcba1c0cacd",
   "metadata": {},
   "outputs": [
    {
     "data": {
      "text/plain": [
       "<bound method NDFrame.head of          Unnamed: 0  TRANSACTION_ID          TX_DATETIME  CUSTOMER_ID  \\\n",
       "0                 0               0  2023-01-01 00:00:31          596   \n",
       "1                 1               1  2023-01-01 00:02:10         4961   \n",
       "2                 2               2  2023-01-01 00:07:56            2   \n",
       "3                 3               3  2023-01-01 00:09:29         4128   \n",
       "4                 4               4  2023-01-01 00:10:34          927   \n",
       "...             ...             ...                  ...          ...   \n",
       "1754150     1754150         1754150  2023-07-02 23:56:36          161   \n",
       "1754151     1754151         1754151  2023-07-02 23:57:38         4342   \n",
       "1754152     1754152         1754152  2023-07-02 23:58:21          618   \n",
       "1754153     1754153         1754153  2023-07-02 23:59:52         4056   \n",
       "1754154     1754154         1754154  2023-07-02 23:59:57         3542   \n",
       "\n",
       "         TERMINAL_ID  TX_AMOUNT  TX_TIME_SECONDS  TX_TIME_DAYS  TX_FRAUD  \\\n",
       "0               3156     533.07               31             0         0   \n",
       "1               3412     808.56              130             0         0   \n",
       "2               1365    1442.94              476             0         1   \n",
       "3               8737     620.65              569             0         0   \n",
       "4               9906     490.66              634             0         0   \n",
       "...              ...        ...              ...           ...       ...   \n",
       "1754150          655     531.43         15810996           182         0   \n",
       "1754151         6181      10.40         15811058           182         0   \n",
       "1754152         1502      26.62         15811101           182         0   \n",
       "1754153         3067     550.43         15811192           182         0   \n",
       "1754154         9849     216.57         15811197           182         0   \n",
       "\n",
       "         TX_FRAUD_SCENARIO  \n",
       "0                        0  \n",
       "1                        0  \n",
       "2                        1  \n",
       "3                        0  \n",
       "4                        0  \n",
       "...                    ...  \n",
       "1754150                  0  \n",
       "1754151                  0  \n",
       "1754152                  0  \n",
       "1754153                  0  \n",
       "1754154                  0  \n",
       "\n",
       "[1754155 rows x 10 columns]>"
      ]
     },
     "execution_count": 2,
     "metadata": {},
     "output_type": "execute_result"
    }
   ],
   "source": [
    "import pandas as pd\n",
    "df = pd.read_csv(\"Final Transactions.csv\")\n",
    "df.head"
   ]
  },
  {
   "cell_type": "code",
   "execution_count": 3,
   "id": "24bf6cfb-006a-4735-83d6-151438e278e9",
   "metadata": {},
   "outputs": [
    {
     "name": "stdout",
     "output_type": "stream",
     "text": [
      "<class 'pandas.core.frame.DataFrame'>\n",
      "RangeIndex: 1754155 entries, 0 to 1754154\n",
      "Data columns (total 10 columns):\n",
      " #   Column             Dtype  \n",
      "---  ------             -----  \n",
      " 0   Unnamed: 0         int64  \n",
      " 1   TRANSACTION_ID     int64  \n",
      " 2   TX_DATETIME        object \n",
      " 3   CUSTOMER_ID        int64  \n",
      " 4   TERMINAL_ID        int64  \n",
      " 5   TX_AMOUNT          float64\n",
      " 6   TX_TIME_SECONDS    int64  \n",
      " 7   TX_TIME_DAYS       int64  \n",
      " 8   TX_FRAUD           int64  \n",
      " 9   TX_FRAUD_SCENARIO  int64  \n",
      "dtypes: float64(1), int64(8), object(1)\n",
      "memory usage: 133.8+ MB\n"
     ]
    }
   ],
   "source": [
    "df.info()"
   ]
  },
  {
   "cell_type": "code",
   "execution_count": 4,
   "id": "e9616197-2c0c-495c-9936-98ba8bfbf428",
   "metadata": {},
   "outputs": [
    {
     "name": "stdout",
     "output_type": "stream",
     "text": [
      "Training accuracy: 1.0\n",
      "Testing accuracy: 1.0\n"
     ]
    }
   ],
   "source": [
    "from sklearn.model_selection import train_test_split\n",
    "from sklearn.datasets import load_iris  # Example dataset, replace with your own data\n",
    "from sklearn.linear_model import LogisticRegression  # Example model, replace with your desired model\n",
    "\n",
    "import pandas as pd\n",
    "\n",
    "# Load data from CSV file\n",
    "df = pd.read_csv('Final Transactions.csv')\n",
    "\n",
    "# Extract features (X) and target variable (y) from DataFrame\n",
    "X = df.drop(columns=['TRANSACTION_ID','TX_DATETIME','CUSTOMER_ID','TERMINAL_ID','TX_AMOUNT','TX_TIME_SECONDS','TX_TIME_DAYS','TX_FRAUD_SCENARIO'])  # Assuming the target column is named 'target_column_name'\n",
    "y = df['TX_FRAUD']\n",
    "\n",
    "\n",
    "# Split data into training and testing sets\n",
    "X_train, X_test, y_train, y_test = train_test_split(X, y, test_size=0.3, random_state=42)\n",
    "\n",
    "# Initialize and train your model\n",
    "model = LogisticRegression()  # Example model, replace with your desired model\n",
    "model.fit(X_train, y_train)\n",
    "\n",
    "# Evaluate the model\n",
    "train_score = model.score(X_train, y_train)\n",
    "test_score = model.score(X_test, y_test)\n",
    "\n",
    "print(\"Training accuracy:\", train_score)\n",
    "print(\"Testing accuracy:\", test_score)"
   ]
  },
  {
   "cell_type": "code",
   "execution_count": 5,
   "id": "948f8a35-e0ef-4b26-bcd9-b458b4860101",
   "metadata": {},
   "outputs": [
    {
     "name": "stdout",
     "output_type": "stream",
     "text": [
      "Requirement already satisfied: cx-Freeze in c:\\users\\lenovo\\anaconda3\\lib\\site-packages (6.15.16)\n",
      "Requirement already satisfied: setuptools<70,>=62.6 in c:\\users\\lenovo\\anaconda3\\lib\\site-packages (from cx-Freeze) (68.2.2)\n",
      "Requirement already satisfied: wheel<=0.43.0,>=0.38.4 in c:\\users\\lenovo\\anaconda3\\lib\\site-packages (from cx-Freeze) (0.41.2)\n",
      "Requirement already satisfied: cx-Logging>=3.1 in c:\\users\\lenovo\\anaconda3\\lib\\site-packages (from cx-Freeze) (3.2.0)\n",
      "Requirement already satisfied: lief<0.15.0,>=0.12.0 in c:\\users\\lenovo\\anaconda3\\lib\\site-packages (from cx-Freeze) (0.14.1)\n",
      "Note: you may need to restart the kernel to use updated packages.\n"
     ]
    }
   ],
   "source": [
    "pip install cx-Freeze"
   ]
  },
  {
   "cell_type": "code",
   "execution_count": 6,
   "id": "cfb58908-ab42-4952-b690-2b5712105f84",
   "metadata": {},
   "outputs": [],
   "source": [
    "import pickle"
   ]
  },
  {
   "cell_type": "code",
   "execution_count": 7,
   "id": "2fc88426-c9d1-4a5e-8050-3b5b4c353a5b",
   "metadata": {},
   "outputs": [
    {
     "name": "stdout",
     "output_type": "stream",
     "text": [
      "1.0\n"
     ]
    }
   ],
   "source": [
    "filename = 'FFD.pickle'\n",
    "pickle.dump(model, open(filename, 'wb'))\n",
    "loaded_model = pickle.load(open(filename, 'rb'))\n",
    "result = loaded_model.score(X_test, y_test)\n",
    "print: print(result)"
   ]
  },
  {
   "cell_type": "code",
   "execution_count": null,
   "id": "345f2091-b78a-44f2-86e0-6fdf96281293",
   "metadata": {},
   "outputs": [],
   "source": []
  },
  {
   "cell_type": "code",
   "execution_count": 8,
   "id": "18c3de78-25f2-4b77-9eac-b719945c09fb",
   "metadata": {},
   "outputs": [],
   "source": [
    "import joblib\n"
   ]
  },
  {
   "cell_type": "code",
   "execution_count": 9,
   "id": "6034e91b-ed6d-45de-be47-feec7c789930",
   "metadata": {},
   "outputs": [],
   "source": [
    "filename = 'trained_model.joblib'"
   ]
  },
  {
   "cell_type": "code",
   "execution_count": 10,
   "id": "31bea46b-851d-461a-be2f-69e3de3b3047",
   "metadata": {},
   "outputs": [
    {
     "name": "stdout",
     "output_type": "stream",
     "text": [
      "1.0\n"
     ]
    }
   ],
   "source": [
    "joblib.dump(model,filename)\n",
    "loaded_model = joblib.load(filename)\n",
    "result = loaded_model.score(X_test, y_test)\n",
    "print:print(result)"
   ]
  },
  {
   "cell_type": "code",
   "execution_count": 11,
   "id": "bae18428-e60a-4835-9389-5ebbe44c2c2a",
   "metadata": {},
   "outputs": [
    {
     "name": "stdout",
     "output_type": "stream",
     "text": [
      "Precision: 1.0\n"
     ]
    }
   ],
   "source": [
    "from sklearn.metrics import precision_score\n",
    "\n",
    "# Make predictions on the test set\n",
    "y_pred = model.predict(X_test)\n",
    "\n",
    "# Calculate precision\n",
    "precision = precision_score(y_test, y_pred)\n",
    "\n",
    "print(\"Precision:\", precision)\n"
   ]
  },
  {
   "cell_type": "code",
   "execution_count": 12,
   "id": "ca0ce575-f18f-48d0-9260-a266841007f9",
   "metadata": {},
   "outputs": [
    {
     "name": "stdout",
     "output_type": "stream",
     "text": [
      "True Negatives (TN): 455062\n",
      "False Positives (FP): 0\n",
      "False Negatives (FN): 0\n",
      "True Positives (TP): 71185\n"
     ]
    }
   ],
   "source": [
    "from sklearn.metrics import confusion_matrix\n",
    "\n",
    "# Get the confusion matrix\n",
    "conf_matrix = confusion_matrix(y_test, y_pred)\n",
    "\n",
    "# Extract TP, TN, FP, FN\n",
    "TN = conf_matrix[0, 0]\n",
    "FP = conf_matrix[0, 1]\n",
    "FN = conf_matrix[1, 0]\n",
    "TP = conf_matrix[1, 1]\n",
    "\n",
    "print(\"True Negatives (TN):\", TN)\n",
    "print(\"False Positives (FP):\", FP)\n",
    "print(\"False Negatives (FN):\", FN)\n",
    "print(\"True Positives (TP):\", TP)\n"
   ]
  },
  {
   "cell_type": "code",
   "execution_count": null,
   "id": "a437756e-6ede-4542-bfc6-34b6ad840dcc",
   "metadata": {},
   "outputs": [],
   "source": []
  }
 ],
 "metadata": {
  "kernelspec": {
   "display_name": "Python 3 (ipykernel)",
   "language": "python",
   "name": "python3"
  },
  "language_info": {
   "codemirror_mode": {
    "name": "ipython",
    "version": 3
   },
   "file_extension": ".py",
   "mimetype": "text/x-python",
   "name": "python",
   "nbconvert_exporter": "python",
   "pygments_lexer": "ipython3",
   "version": "3.11.7"
  }
 },
 "nbformat": 4,
 "nbformat_minor": 5
}
